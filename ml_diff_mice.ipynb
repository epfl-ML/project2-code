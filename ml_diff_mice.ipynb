{
 "cells": [
  {
   "cell_type": "code",
   "execution_count": 1,
   "metadata": {},
   "outputs": [
    {
     "name": "stdout",
     "output_type": "stream",
     "text": [
      "Num GPUs Available:  0\n"
     ]
    }
   ],
   "source": [
    "import pandas as pd\n",
    "import numpy as np\n",
    "import matplotlib.pyplot as plt\n",
    "import seaborn as sns\n",
    "import tensorflow as tf\n",
    "\n",
    "from sklearn.ensemble import RandomForestClassifier\n",
    "from sklearn.linear_model import RidgeClassifierCV, LogisticRegression\n",
    "from sklearn.neighbors import KNeighborsClassifier\n",
    "\n",
    "from keras.models import Sequential\n",
    "from keras.layers import Dense\n",
    "from keras.layers import Dropout\n",
    "from keras.optimizers import Adam\n",
    "\n",
    "from tqdm.notebook import tqdm\n",
    "from tqdm.keras import TqdmCallback\n",
    "\n",
    "import features\n",
    "import helpers\n",
    "import plots\n",
    "\n",
    "print(\"Num GPUs Available: \", len(tf.config.list_physical_devices('GPU')))"
   ]
  },
  {
   "cell_type": "code",
   "execution_count": 2,
   "metadata": {},
   "outputs": [
    {
     "name": "stdout",
     "output_type": "stream",
     "text": [
      "Training on ['BL601.smo.csv', 'BL602.smo.csv', 'BL606.smo.csv', 'BL609.smo.csv', 'BL610.smo.csv', 'BL611.smo.csv', 'BL612.smo.csv', 'BL614.smo.csv', 'BL616.smo.csv', 'BL6V1.smo.csv', 'BL6V2.smo.csv']\n",
      "Testing on ['BL6V3.smo.csv']\n"
     ]
    }
   ],
   "source": [
    "data_folder = 'data/csv/'\n",
    "data_files = [mice + \".smo.csv\" for mice in helpers.mice_breeds[\"c57bl6\"]][:]\n",
    "data_files_train = data_files[0:1]\n",
    "data_files_test = data_files[-1:]\n",
    "\n",
    "print(f\"Training on {data_files_train}\")\n",
    "print(f\"Testing on {data_files_test}\")\n",
    "\n",
    "days = [0]#, 1, 2, 3]\n",
    "window_sizes = [2]#, 5, 10]\n",
    "window_features = [\"EEGv\", \"EMGv\"]\n",
    "spectral=False\n",
    "rolloffs = [0.5]#[0.1, 0.2, 0.3, 0.4, 0.5, 0.6, 0.7, 0.8, 0.9]\n",
    "test_size = 0.3\n",
    "useRaw = False\n",
    "dropBins = False\n",
    "cat_matrix = True # True for neural net, any for random forest\n",
    "standardize_df = False\n",
    "\n",
    "seed = 13"
   ]
  },
  {
   "cell_type": "code",
   "execution_count": 3,
   "metadata": {},
   "outputs": [
    {
     "name": "stdout",
     "output_type": "stream",
     "text": [
      "Removed 1 rows with invalid log values in BL609.smo.csv\n",
      "Removed 63 rows with invalid log values in BL612.smo.csv\n",
      "Removed 5 rows with invalid log values in BL614.smo.csv\n",
      "Removed 24 rows with invalid log values in BL616.smo.csv\n",
      "Removed 15 rows with invalid log values in BL6V2.smo.csv\n",
      "Balancing classes to 12619 samples per class (total: 37857)\n",
      "Removed 90 rows with invalid log values in BL602.smo.csv\n",
      "Removed 14 rows with invalid log values in BL606.smo.csv\n",
      "Removed 185 rows with invalid log values in BL609.smo.csv\n",
      "Removed 100 rows with invalid log values in BL610.smo.csv\n",
      "Removed 259 rows with invalid log values in BL612.smo.csv\n",
      "Removed 26 rows with invalid log values in BL616.smo.csv\n",
      "Removed 641 rows with invalid log values in BL6V2.smo.csv\n"
     ]
    }
   ],
   "source": [
    "# train and test on same mice\n",
    "df_train = features.clean_data(\n",
    "    data_folder=data_folder, \n",
    "    data_files=data_files_train,\n",
    "    days=days, \n",
    "    window_sizes=window_sizes, \n",
    "    window_features=window_features,\n",
    "    spectral=spectral,\n",
    "    rolloffs=rolloffs,\n",
    "    dropBins=dropBins, \n",
    "    useRaw=useRaw, \n",
    "    balance=True, \n",
    "    standardize_df=standardize_df\n",
    ")\n",
    "\n",
    "df_test = features.clean_data(\n",
    "    data_folder=data_folder, \n",
    "    data_files=data_files_test,\n",
    "    days=days, \n",
    "    window_sizes=window_sizes, \n",
    "    window_features=window_features,\n",
    "    spectral=spectral,\n",
    "    rolloffs=rolloffs,\n",
    "    dropBins=dropBins, \n",
    "    useRaw=useRaw, \n",
    "    balance=False, \n",
    "    standardize_df=standardize_df\n",
    ")\n",
    "\n",
    "x_train, x_test, y_train, y_test, le = \n",
    "features.encode_scale_data(df_train=df_train, df_test=df_test, useRaw=useRaw, seed=seed, cat_matrix=cat_matrix)"
   ]
  },
  {
   "cell_type": "markdown",
   "metadata": {},
   "source": [
    "# Neural Network"
   ]
  },
  {
   "cell_type": "code",
   "execution_count": 4,
   "metadata": {},
   "outputs": [
    {
     "name": "stdout",
     "output_type": "stream",
     "text": [
      "Model: \"sequential\"\n",
      "_________________________________________________________________\n",
      " Layer (type)                Output Shape              Param #   \n",
      "=================================================================\n",
      " dense (Dense)               (None, 3)                 1290      \n",
      "                                                                 \n",
      " dense_1 (Dense)             (None, 3)                 12        \n",
      "                                                                 \n",
      "=================================================================\n",
      "Total params: 1,302\n",
      "Trainable params: 1,302\n",
      "Non-trainable params: 0\n",
      "_________________________________________________________________\n"
     ]
    }
   ],
   "source": [
    "def baseline_model(input_dim, num_classes, lr=1e-4):\n",
    "    model = Sequential()\n",
    "    model.add(Dense(3, input_dim=input_dim, activation='relu'))\n",
    "    model.add(Dense(num_classes, activation='softmax'))\n",
    "\n",
    "    model.compile(loss='categorical_crossentropy', optimizer=Adam(learning_rate=lr), metrics=['accuracy'])\n",
    "\n",
    "    return model\n",
    "\n",
    "model = baseline_model(x_train.shape[1], le.classes_.size)\n",
    "model.summary()"
   ]
  },
  {
   "cell_type": "code",
   "execution_count": null,
   "metadata": {},
   "outputs": [],
   "source": [
    "model = baseline_model(x_train.shape[1], le.classes_.size)\n",
    "history = model.fit(x=x_train,\n",
    "                    y=y_train,\n",
    "                    validation_data=(x_test, y_test),\n",
    "                    epochs=40,\n",
    "                    batch_size=64,\n",
    "                    verbose=0,\n",
    "                    callbacks=[TqdmCallback(verbose=1)]\n",
    "                )\n",
    "\n",
    "plots.plot_history(history.history)"
   ]
  },
  {
   "cell_type": "code",
   "execution_count": 6,
   "metadata": {},
   "outputs": [
    {
     "name": "stdout",
     "output_type": "stream",
     "text": [
      "22231/22231 [==============================] - 12s 543us/step\n",
      "[[252424  14860   7837]\n",
      " [  2428  29404   2927]\n",
      " [ 17988  19983 363535]]\n",
      "              precision    recall  f1-score   support\n",
      "\n",
      "           n       0.93      0.92      0.92    275121\n",
      "           r       0.46      0.85      0.59     34759\n",
      "           w       0.97      0.91      0.94    401506\n",
      "\n",
      "    accuracy                           0.91    711386\n",
      "   macro avg       0.78      0.89      0.82    711386\n",
      "weighted avg       0.93      0.91      0.91    711386\n",
      "\n"
     ]
    },
    {
     "data": {
      "image/png": "[encoded data removed]",
      "text/plain": [
       "<Figure size 640x480 with 2 Axes>"
      ]
     },
     "metadata": {},
     "output_type": "display_data"
    }
   ],
   "source": [
    "plots.plot_confusion(model=model, x_test=x_test, y_test=y_test, le=le, cat_matrix=True, normalize='true')"
   ]
  },
  {
   "cell_type": "markdown",
   "metadata": {},
   "source": [
    "# K-Fold Cross Validation"
   ]
  },
  {
   "cell_type": "code",
   "execution_count": 7,
   "metadata": {},
   "outputs": [],
   "source": [
    "#from sklearn.model_selection import KFold\n",
    "#\n",
    "#x, y, le = features.split_encode_scale_data_kfold(df, useRaw, seed, cat_matrix=True)\n",
    "#model = baseline_model(x_train.shape[1], le.classes_.size)\n",
    "#\n",
    "#kfold = KFold(n_splits=5, shuffle=True)\n",
    "#\n",
    "## K-fold Cross Validation model evaluation\n",
    "#fold_no = 1\n",
    "#for train, test in kfold.split(x, y):\n",
    "#  model = baseline_model(x_train.shape[1], le.classes_.size)\n",
    "#  # Generate a print\n",
    "#  print(f'Training for fold {fold_no} ...')\n",
    "#\n",
    "#  # Fit data to model\n",
    "#  history = model.fit(x=x[train],\n",
    "#                    y=y[train],\n",
    "#                    epochs=300,\n",
    "#                    batch_size=64,\n",
    "#                    verbose=0,\n",
    "#                )\n",
    "#\n",
    "#  # confusion matrix\n",
    "#  cm = np.zeros((le.classes_.size, le.classes_.size))\n",
    "#  cm = cm + plots.confusion(model=model, x_test=x[test], y_test=y[test], le=le, cat_matrix=True)\n",
    "#  # Increase fold number\n",
    "#  fold_no = fold_no + 1\n",
    "#\n",
    "#confusion = pd.DataFrame(cm, index=le.classes_, columns=le.classes_ + ' (pred)')\n",
    "#sns.heatmap(confusion, annot=True, cmap=\"Blues\", fmt='.2f')\n",
    "#plt.title(f'Confusion matrix (normalize = true')\n",
    "#plt.show()"
   ]
  },
  {
   "cell_type": "markdown",
   "metadata": {},
   "source": [
    "# Random Forest"
   ]
  },
  {
   "cell_type": "code",
   "execution_count": 8,
   "metadata": {},
   "outputs": [],
   "source": [
    "#rfc = RandomForestClassifier(random_state=seed)\n",
    "#rfc.fit(x_train, y_train)\n",
    "#y_predict = rfc.predict(x_test)\n",
    "\n",
    "#plots.plot_confusion(model=rfc, x_test=x_test, y_test=y_test, le=le, cat_matrix=cat_matrix, normalize='true')"
   ]
  }
 ],
 "metadata": {
  "kernelspec": {
   "display_name": "temp2pip",
   "language": "python",
   "name": "python3"
  },
  "language_info": {
   "codemirror_mode": {
    "name": "ipython",
    "version": 3
   },
   "file_extension": ".py",
   "mimetype": "text/x-python",
   "name": "python",
   "nbconvert_exporter": "python",
   "pygments_lexer": "ipython3",
   "version": "3.9.15"
  },
  "orig_nbformat": 4,
  "vscode": {
   "interpreter": {
    "hash": "378b5781c9162c44bc30592892d157e8a44b4041d75c0a3c9d82f9150531be53"
   }
  }
 },
 "nbformat": 4,
 "nbformat_minor": 2
}
