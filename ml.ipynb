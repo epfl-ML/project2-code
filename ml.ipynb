{
 "cells": [
  {
   "cell_type": "code",
   "execution_count": 121,
   "metadata": {},
   "outputs": [],
   "source": [
    "import pandas as pd\n",
    "import numpy as np\n",
    "import matplotlib.pyplot as plt\n",
    "import seaborn as sns\n",
    "\n",
    "from sklearn.model_selection import train_test_split"
   ]
  },
  {
   "cell_type": "code",
   "execution_count": 122,
   "metadata": {},
   "outputs": [],
   "source": [
    "data_folder = 'data/'\n",
    "data_file = '10101.csv'"
   ]
  },
  {
   "cell_type": "code",
   "execution_count": 123,
   "metadata": {},
   "outputs": [
    {
     "data": {
      "text/plain": [
       " 0    11680\n",
       "-1     9104\n",
       " 1      816\n",
       "Name: state, dtype: int64"
      ]
     },
     "execution_count": 123,
     "metadata": {},
     "output_type": "execute_result"
    }
   ],
   "source": [
    "df = pd.read_csv(data_folder + data_file)\n",
    "df[\"time\"] = df.index\n",
    "df[\"day\"] = df[\"time\"] // 21600\n",
    "\n",
    "mapping = {'w': 0, 'n': -1, 'r': 1}\n",
    "df[\"state\"] = df[\"state\"].replace(mapping)\n",
    "# keep only day 0\n",
    "\n",
    "df = df[df[\"day\"] == 0]\n",
    "df[\"state\"].value_counts()"
   ]
  },
  {
   "cell_type": "code",
   "execution_count": 124,
   "metadata": {},
   "outputs": [],
   "source": [
    "df1 = df.copy()\n",
    "df1 = df1.drop([\"rawState\", \"temp\", \"time\", \"day\"], axis=1)\n",
    "x = df1.drop([\"state\"], axis=1)\n",
    "y = np.ravel(df1[[\"state\"]])"
   ]
  },
  {
   "cell_type": "code",
   "execution_count": 125,
   "metadata": {},
   "outputs": [],
   "source": [
    "x_train, x_test, y_train, y_test = train_test_split(x, y, test_size = 0.2, random_state=13)"
   ]
  },
  {
   "cell_type": "code",
   "execution_count": 126,
   "metadata": {},
   "outputs": [],
   "source": [
    "from sklearn.preprocessing import StandardScaler\n",
    "\n",
    "scaler = StandardScaler().fit(x_train)\n",
    "x_train = scaler.transform(x_train)\n",
    "x_test = scaler.transform(x_test)"
   ]
  },
  {
   "cell_type": "code",
   "execution_count": 127,
   "metadata": {},
   "outputs": [],
   "source": [
    "from sklearn.ensemble import RandomForestClassifier\n",
    "clf = RandomForestClassifier(random_state=13)\n",
    "clf.fit(x_train, y_train)\n",
    "y_predict = clf.predict(x_test)"
   ]
  },
  {
   "cell_type": "code",
   "execution_count": 128,
   "metadata": {},
   "outputs": [
    {
     "data": {
      "text/html": [
       "<div>\n",
       "<style scoped>\n",
       "    .dataframe tbody tr th:only-of-type {\n",
       "        vertical-align: middle;\n",
       "    }\n",
       "\n",
       "    .dataframe tbody tr th {\n",
       "        vertical-align: top;\n",
       "    }\n",
       "\n",
       "    .dataframe thead th {\n",
       "        text-align: right;\n",
       "    }\n",
       "</style>\n",
       "<table border=\"1\" class=\"dataframe\">\n",
       "  <thead>\n",
       "    <tr style=\"text-align: right;\">\n",
       "      <th></th>\n",
       "      <th>P Wake</th>\n",
       "      <th>P Non-Rem</th>\n",
       "      <th>P Rem</th>\n",
       "    </tr>\n",
       "  </thead>\n",
       "  <tbody>\n",
       "    <tr>\n",
       "      <th>Wake</th>\n",
       "      <td>0.947833</td>\n",
       "      <td>0.035892</td>\n",
       "      <td>0.287879</td>\n",
       "    </tr>\n",
       "    <tr>\n",
       "      <th>Non-Rem</th>\n",
       "      <td>0.026504</td>\n",
       "      <td>0.927664</td>\n",
       "      <td>0.424242</td>\n",
       "    </tr>\n",
       "    <tr>\n",
       "      <th>Rem</th>\n",
       "      <td>0.025663</td>\n",
       "      <td>0.036444</td>\n",
       "      <td>0.287879</td>\n",
       "    </tr>\n",
       "  </tbody>\n",
       "</table>\n",
       "</div>"
      ],
      "text/plain": [
       "           P Wake  P Non-Rem     P Rem\n",
       "Wake     0.947833   0.035892  0.287879\n",
       "Non-Rem  0.026504   0.927664  0.424242\n",
       "Rem      0.025663   0.036444  0.287879"
      ]
     },
     "execution_count": 128,
     "metadata": {},
     "output_type": "execute_result"
    }
   ],
   "source": [
    "from sklearn.metrics import classification_report, confusion_matrix\n",
    "cm = np.array(confusion_matrix(y_test, y_predict, labels=[0,-1,1], normalize='pred'))\n",
    "confusion = pd.DataFrame(cm, index=['Wake', 'Non-Rem', 'Rem'], columns=['P Wake', 'P Non-Rem', 'P Rem'])\n",
    "confusion"
   ]
  },
  {
   "cell_type": "code",
   "execution_count": 129,
   "metadata": {},
   "outputs": [
    {
     "data": {
      "image/png": "[encoded data removed]",
      "text/plain": [
       "<Figure size 432x288 with 2 Axes>"
      ]
     },
     "metadata": {
      "needs_background": "light"
     },
     "output_type": "display_data"
    }
   ],
   "source": [
    "sns.heatmap(confusion,annot=True,fmt='g')\n",
    "plt.show()"
   ]
  },
  {
   "cell_type": "code",
   "execution_count": 130,
   "metadata": {},
   "outputs": [
    {
     "name": "stdout",
     "output_type": "stream",
     "text": [
      "              precision    recall  f1-score   support\n",
      "\n",
      "        Wake       0.93      0.93      0.93      1799\n",
      "     Non-Rem       0.95      0.96      0.95      2356\n",
      "         Rem       0.29      0.23      0.26       165\n",
      "\n",
      "    accuracy                           0.92      4320\n",
      "   macro avg       0.72      0.71      0.71      4320\n",
      "weighted avg       0.91      0.92      0.92      4320\n",
      "\n"
     ]
    }
   ],
   "source": [
    "print(classification_report(y_test, y_predict, target_names=['Wake', 'Non-Rem', 'Rem'], zero_division=0))"
   ]
  }
 ],
 "metadata": {
  "kernelspec": {
   "display_name": "Python 3.9.12 ('base')",
   "language": "python",
   "name": "python3"
  },
  "language_info": {
   "codemirror_mode": {
    "name": "ipython",
    "version": 3
   },
   "file_extension": ".py",
   "mimetype": "text/x-python",
   "name": "python",
   "nbconvert_exporter": "python",
   "pygments_lexer": "ipython3",
   "version": "3.9.12"
  },
  "orig_nbformat": 4,
  "vscode": {
   "interpreter": {
    "hash": "25ecc8b1bc58212068ff31dc593d0f3fa3de4d056aced7030a93b782e02db050"
   }
  }
 },
 "nbformat": 4,
 "nbformat_minor": 2
}
