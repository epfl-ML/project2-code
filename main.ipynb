{
 "cells": [
  {
   "attachments": {},
   "cell_type": "markdown",
   "metadata": {},
   "source": [
    "# Mice sleep\n",
    "This jupiter notebook should show some of the implementation described in the project report. \n",
    "\n",
    "- The total **execution time** is on a macbook pro 2015 ca. **10min**  \n"
   ]
  },
  {
   "attachments": {},
   "cell_type": "markdown",
   "metadata": {},
   "source": [
    "## Python Imports"
   ]
  },
  {
   "cell_type": "code",
   "execution_count": 2,
   "metadata": {},
   "outputs": [],
   "source": [
    "import pandas as pd\n",
    "import numpy as np\n",
    "import matplotlib.pyplot as plt\n",
    "import seaborn as sns\n",
    "import random\n",
    "\n",
    "from sklearn.ensemble import RandomForestClassifier\n",
    "from sklearn.linear_model import RidgeClassifierCV, LogisticRegression\n",
    "from sklearn.neighbors import KNeighborsClassifier\n",
    "from tqdm.notebook import tqdm\n",
    "from tqdm.keras import TqdmCallback\n",
    "\n",
    "import experiments.lib.features as features\n",
    "import experiments.lib.breeds as breeds\n",
    "import experiments.lib.plots as plots\n",
    "import experiments.lib.models as models"
   ]
  },
  {
   "attachments": {},
   "cell_type": "markdown",
   "metadata": {},
   "source": [
    "## Data import\n",
    "We add directly the artifical features `time`, `day` and `hours` to our dataset. This represents better the fact, that the measurments have been taken each 4 seconds over a timespan of 4 days."
   ]
  },
  {
   "cell_type": "code",
   "execution_count": 4,
   "metadata": {},
   "outputs": [],
   "source": [
    "data_folder = 'data/csv/'\n",
    "file = '10101.smo.csv'\n",
    "\n",
    "df = features.load_features(data_folder + file)\n",
    "\n",
    "# adding time features\n",
    "df = features.add_times(df)\n",
    "\n",
    "def to_hours(tick):\n",
    "    return tick / 900.0\n",
    "\n",
    "df['hours'] = df.index.map(to_hours)"
   ]
  },
  {
   "attachments": {},
   "cell_type": "markdown",
   "metadata": {},
   "source": [
    "## Data exploration"
   ]
  },
  {
   "attachments": {},
   "cell_type": "markdown",
   "metadata": {},
   "source": [
    "### Size of single mouse data set\n",
    "Each 4 seconds over 4 days a datapoint is taken. This accumulates in a total of 86400 datapoints."
   ]
  },
  {
   "cell_type": "code",
   "execution_count": null,
   "metadata": {},
   "outputs": [],
   "source": [
    "df.shape[0]"
   ]
  },
  {
   "attachments": {},
   "cell_type": "markdown",
   "metadata": {},
   "source": [
    "### Given features\n",
    "Where the `rawState` column can have a values `['n', 'r', 'w', 1, 2, 3, 5, 6]` and the `state` column can have the state `['n', 'r', 'w']`"
   ]
  },
  {
   "cell_type": "code",
   "execution_count": null,
   "metadata": {},
   "outputs": [],
   "source": [
    "df.head()"
   ]
  },
  {
   "attachments": {},
   "cell_type": "markdown",
   "metadata": {},
   "source": [
    "### State\n",
    "The mouse is either in 'w' = awake, 'n'= rem sleep and 'n' = Not Rem Sleep phase. Depicted below the number of measurements in each state and the relation between `EEGv`, `EMGv` and the state for the first day. "
   ]
  },
  {
   "cell_type": "code",
   "execution_count": null,
   "metadata": {},
   "outputs": [],
   "source": [
    "print(df.groupby('state').size())\n",
    "\n",
    "plots.plot_df(data=df, day=0, log=True)\n"
   ]
  },
  {
   "attachments": {},
   "cell_type": "markdown",
   "metadata": {},
   "source": [
    "### Distribution of sleep phases over 4 days\n",
    "\n",
    "Note that the mouse was put under stress during the third day."
   ]
  },
  {
   "cell_type": "code",
   "execution_count": null,
   "metadata": {},
   "outputs": [],
   "source": [
    "plots.density(df)"
   ]
  },
  {
   "attachments": {},
   "cell_type": "markdown",
   "metadata": {},
   "source": [
    "### Frequency domain"
   ]
  },
  {
   "cell_type": "code",
   "execution_count": null,
   "metadata": {},
   "outputs": [],
   "source": [
    "bins = [f\"bin{i}\" for i in range(401)]\n",
    "df.iloc[0][bins].plot()\n",
    "\n",
    "# remap x axis from 0 to 100 Hz\n",
    "plt.xticks(np.arange(0, 401, 50), np.arange(0, 100.1, 12.5))\n"
   ]
  },
  {
   "attachments": {},
   "cell_type": "markdown",
   "metadata": {},
   "source": [
    "## Feature engineering\n",
    "- [ ] Check how many spectral roll of we need"
   ]
  },
  {
   "attachments": {},
   "cell_type": "markdown",
   "metadata": {},
   "source": [
    "### A: Exploiting the EEG frequency spectrum\n"
   ]
  },
  {
   "cell_type": "code",
   "execution_count": null,
   "metadata": {},
   "outputs": [],
   "source": [
    "# 1) Spectral Flatness Measure\n",
    "df = features.spectral_flatness(df)\n",
    "\n",
    "# 2) Sepectral roll-off: \n",
    "df = features.spectral_rolloff(df, 0.5)\n",
    "\n",
    "# 3) Spectral Centroid\n",
    "df = features.spectral_centroid(df)\n",
    "\n",
    "# 4) Spectral entropy\n",
    "df = features.spectral_entropy(df)\n",
    "\n",
    "# Drop the raw bins\n",
    "for i in range(401):\n",
    "        df = df.drop([f\"bin{i}\"], axis=1)"
   ]
  },
  {
   "attachments": {},
   "cell_type": "markdown",
   "metadata": {},
   "source": [
    "### B: Adding non-linearity"
   ]
  },
  {
   "cell_type": "code",
   "execution_count": null,
   "metadata": {},
   "outputs": [],
   "source": [
    "# Add log features\n",
    "df = features.log_features(df, ['EEGv', 'EMGv'])\n",
    "\n",
    "# Add polynomial features\n",
    "df = features.expand_features_poly(df, 3, ['EEGv', 'EMGv'])"
   ]
  },
  {
   "attachments": {},
   "cell_type": "markdown",
   "metadata": {},
   "source": [
    "### C: Aggregating measurements"
   ]
  },
  {
   "cell_type": "code",
   "execution_count": null,
   "metadata": {},
   "outputs": [],
   "source": [
    "df = features.add_mean_variance_feature_windows(df, [10], ['EEGv', 'EMGv'])"
   ]
  },
  {
   "attachments": {},
   "cell_type": "markdown",
   "metadata": {},
   "source": [
    "### D: Eliminating outliers"
   ]
  },
  {
   "cell_type": "code",
   "execution_count": null,
   "metadata": {},
   "outputs": [],
   "source": [
    "df = features.remove_outliers_quantile(df, ['EEGv', 'EMGv'], threshold=0.95)"
   ]
  },
  {
   "attachments": {},
   "cell_type": "markdown",
   "metadata": {},
   "source": [
    "### E: Rebalancing"
   ]
  },
  {
   "cell_type": "code",
   "execution_count": null,
   "metadata": {},
   "outputs": [],
   "source": [
    "df = features.rebalance_labels(df)"
   ]
  },
  {
   "attachments": {},
   "cell_type": "markdown",
   "metadata": {},
   "source": [
    "### F: Normalization and standardization"
   ]
  },
  {
   "cell_type": "code",
   "execution_count": null,
   "metadata": {},
   "outputs": [],
   "source": [
    "# drop unwanted features\n",
    "df = df.drop(['rawState', \"temp\"], axis=1)\n",
    "\n",
    "# Split into train and test set and standardize\n",
    "x_train, x_test, y_train, y_test, le = features.split_encode_scale_data(df, False, 0.3, 13, True)"
   ]
  },
  {
   "attachments": {},
   "cell_type": "markdown",
   "metadata": {},
   "source": [
    "## Model fitting\n"
   ]
  },
  {
   "attachments": {},
   "cell_type": "markdown",
   "metadata": {},
   "source": [
    "### Neural Network"
   ]
  },
  {
   "cell_type": "code",
   "execution_count": null,
   "metadata": {},
   "outputs": [],
   "source": [
    "model = models.nn_baseline_model(x_train.shape[1], le.classes_.size, lr=1e-4)\n",
    "# train the model\n",
    "history = model.fit(x=x_train,\n",
    "                    y=y_train,\n",
    "                    validation_data=(x_test, y_test),\n",
    "                    epochs=150,\n",
    "                    batch_size=64,\n",
    "                    verbose=0,\n",
    "                    callbacks=[TqdmCallback(verbose=1)]\n",
    "                )\n",
    "\n",
    "# Plot the confusion matrix\n",
    "plots.plot_confusion(model=model, x_test=x_test, y_test=y_test, le=le, cat_matrix=True, normalize='true')"
   ]
  },
  {
   "attachments": {},
   "cell_type": "markdown",
   "metadata": {},
   "source": [
    "### Random forests"
   ]
  },
  {
   "cell_type": "code",
   "execution_count": null,
   "metadata": {},
   "outputs": [],
   "source": [
    "rfc = RandomForestClassifier(random_state=13)\n",
    "rfc.fit(x_train, y_train)\n",
    "y_predict = rfc.predict(x_test)\n",
    "\n",
    "plots.plot_confusion(model=rfc, x_test=x_test, y_test=y_test, le=le, cat_matrix=True, normalize='true')"
   ]
  }
 ],
 "metadata": {
  "kernelspec": {
   "display_name": "temp2pip",
   "language": "python",
   "name": "python3"
  },
  "language_info": {
   "codemirror_mode": {
    "name": "ipython",
    "version": 3
   },
   "file_extension": ".py",
   "mimetype": "text/x-python",
   "name": "python",
   "nbconvert_exporter": "python",
   "pygments_lexer": "ipython3",
   "version": "3.9.15"
  },
  "orig_nbformat": 4,
  "vscode": {
   "interpreter": {
    "hash": "378b5781c9162c44bc30592892d157e8a44b4041d75c0a3c9d82f9150531be53"
   }
  }
 },
 "nbformat": 4,
 "nbformat_minor": 2
}
