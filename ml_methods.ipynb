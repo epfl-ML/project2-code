{
 "cells": [
  {
   "cell_type": "code",
   "execution_count": 1,
   "metadata": {},
   "outputs": [
    {
     "name": "stderr",
     "output_type": "stream",
     "text": [
      "2022-12-18 12:42:54.964476: I tensorflow/core/platform/cpu_feature_guard.cc:193] This TensorFlow binary is optimized with oneAPI Deep Neural Network Library (oneDNN) to use the following CPU instructions in performance-critical operations:  AVX2 FMA\n",
      "To enable them in other operations, rebuild TensorFlow with the appropriate compiler flags.\n",
      "2022-12-18 12:42:55.317899: W tensorflow/compiler/xla/stream_executor/platform/default/dso_loader.cc:64] Could not load dynamic library 'libcudart.so.11.0'; dlerror: libcudart.so.11.0: cannot open shared object file: No such file or directory\n",
      "2022-12-18 12:42:55.317949: I tensorflow/compiler/xla/stream_executor/cuda/cudart_stub.cc:29] Ignore above cudart dlerror if you do not have a GPU set up on your machine.\n",
      "2022-12-18 12:42:57.052488: W tensorflow/compiler/xla/stream_executor/platform/default/dso_loader.cc:64] Could not load dynamic library 'libnvinfer.so.7'; dlerror: libnvinfer.so.7: cannot open shared object file: No such file or directory\n",
      "2022-12-18 12:42:57.052676: W tensorflow/compiler/xla/stream_executor/platform/default/dso_loader.cc:64] Could not load dynamic library 'libnvinfer_plugin.so.7'; dlerror: libnvinfer_plugin.so.7: cannot open shared object file: No such file or directory\n",
      "2022-12-18 12:42:57.052708: W tensorflow/compiler/tf2tensorrt/utils/py_utils.cc:38] TF-TRT Warning: Cannot dlopen some TensorRT libraries. If you would like to use Nvidia GPU with TensorRT, please make sure the missing libraries mentioned above are installed properly.\n"
     ]
    }
   ],
   "source": [
    "import pandas as pd\n",
    "import numpy as np\n",
    "import matplotlib.pyplot as plt\n",
    "import seaborn as sns\n",
    "import tensorflow as tf\n",
    "\n",
    "from sklearn.ensemble import RandomForestClassifier\n",
    "from sklearn.linear_model import RidgeClassifierCV, LogisticRegression\n",
    "from sklearn.neighbors import KNeighborsClassifier\n",
    "\n",
    "from scipy.fft import fft\n",
    "\n",
    "from keras.models import Sequential\n",
    "from keras.layers import Dense\n",
    "from keras.layers import Dropout\n",
    "from keras.optimizers import Adam\n",
    "\n",
    "from tqdm.notebook import tqdm\n",
    "from tqdm.keras import TqdmCallback\n",
    "\n",
    "import features\n",
    "import plots"
   ]
  },
  {
   "cell_type": "code",
   "execution_count": 2,
   "metadata": {},
   "outputs": [],
   "source": [
    "data_folder = 'data/csv/'\n",
    "data_files = ['10101.smo.csv']\n",
    "\n",
    "useRaw = False\n",
    "test_size = 0.3\n",
    "seed = 13\n",
    "window_sizes = [2, 5, 10, 50, 100]\n",
    "days = [0, 1, 2, 3]\n",
    "cat_matrix = True # True for neural net, any for random forest"
   ]
  },
  {
   "cell_type": "code",
   "execution_count": 3,
   "metadata": {},
   "outputs": [],
   "source": [
    "df = features.load_features(data_folder, data_files)\n",
    "\n",
    "window_features = [\"EEGv\", \"EMGv\"]\n",
    "window_names = []\n",
    "\n",
    "for window_size in window_sizes:\n",
    "    df = features.features_window(df, window_size=window_size, op=features.WindowOperationFlag.MEAN, features=window_features)\n",
    "    df = features.features_window(df, window_size=window_size, op=features.WindowOperationFlag.VAR, features=window_features)\n",
    "\n",
    "    for feature in window_features:\n",
    "        window_names.append(feature + \"_mean\" + str(window_size))\n",
    "        window_names.append(feature + \"_var\" + str(window_size))\n",
    "\n",
    "df = features.log_features(df, [\"EEGv\", \"EMGv\"] + window_names)\n",
    "\n",
    "df = df.dropna()\n",
    "df = features.add_times(df)\n",
    "df = features.filter_days(df, days)\n",
    "\n",
    "skeep, _ = features.states(useRaw)"
   ]
  },
  {
   "cell_type": "code",
   "execution_count": 4,
   "metadata": {},
   "outputs": [
    {
     "name": "stdout",
     "output_type": "stream",
     "text": [
      "w    48651\n",
      "n    33955\n",
      "r     3695\n",
      "Name: state, dtype: int64\n",
      "n    3695\n",
      "r    3695\n",
      "w    3695\n",
      "Name: state, dtype: int64\n",
      "(11085, 49)\n",
      "Index(['rawState', 'state', 'EEGv', 'EMGv', 'temp', 'EEGv_mean2', 'EMGv_mean2',\n",
      "       'EEGv_var2', 'EMGv_var2', 'EEGv_mean5', 'EMGv_mean5', 'EEGv_var5',\n",
      "       'EMGv_var5', 'EEGv_mean10', 'EMGv_mean10', 'EEGv_var10', 'EMGv_var10',\n",
      "       'EEGv_mean50', 'EMGv_mean50', 'EEGv_var50', 'EMGv_var50',\n",
      "       'EEGv_mean100', 'EMGv_mean100', 'EEGv_var100', 'EMGv_var100',\n",
      "       'EEGv_log', 'EMGv_log', 'EEGv_mean2_log', 'EMGv_mean2_log',\n",
      "       'EEGv_var2_log', 'EMGv_var2_log', 'EEGv_mean5_log', 'EMGv_mean5_log',\n",
      "       'EEGv_var5_log', 'EMGv_var5_log', 'EEGv_mean10_log', 'EMGv_mean10_log',\n",
      "       'EEGv_var10_log', 'EMGv_var10_log', 'EEGv_mean50_log',\n",
      "       'EMGv_mean50_log', 'EEGv_var50_log', 'EMGv_var50_log',\n",
      "       'EEGv_mean100_log', 'EMGv_mean100_log', 'EEGv_var100_log',\n",
      "       'EMGv_var100_log', 'time', 'day'],\n",
      "      dtype='object')\n"
     ]
    }
   ],
   "source": [
    "df1 = df.copy()\n",
    "# drop bin0 to bin400\n",
    "for i in range(401):\n",
    "    df1 = df1.drop([f\"bin{i}\"], axis=1)\n",
    "\n",
    "print(df1[skeep].value_counts())\n",
    "balance = df[skeep].value_counts().min()\n",
    "# keep same amount of each class\n",
    "df1 = df1.groupby(skeep).apply(lambda x: x.sample(balance)).reset_index(drop=True)\n",
    "\n",
    "print(df1[skeep].value_counts())\n",
    "\n",
    "print(df1.shape)\n",
    "print(df1.columns)"
   ]
  },
  {
   "cell_type": "code",
   "execution_count": 5,
   "metadata": {},
   "outputs": [],
   "source": [
    "x_train, x_test, y_train, y_test, le = features.split_data(df1, useRaw, test_size, seed, cat_matrix)"
   ]
  },
  {
   "cell_type": "markdown",
   "metadata": {},
   "source": [
    "# Random Forest"
   ]
  },
  {
   "cell_type": "code",
   "execution_count": 6,
   "metadata": {},
   "outputs": [
    {
     "name": "stdout",
     "output_type": "stream",
     "text": [
      "[[1038   51   16]\n",
      " [  84 1062    6]\n",
      " [  28   22 1019]]\n",
      "              precision    recall  f1-score   support\n",
      "\n",
      "           n       0.90      0.94      0.92      1105\n",
      "           r       0.94      0.92      0.93      1152\n",
      "           w       0.98      0.95      0.97      1069\n",
      "\n",
      "    accuracy                           0.94      3326\n",
      "   macro avg       0.94      0.94      0.94      3326\n",
      "weighted avg       0.94      0.94      0.94      3326\n",
      "\n"
     ]
    },
    {
     "data": {
      "image/png": "[encoded data removed]",
      "text/plain": [
       "<Figure size 432x288 with 2 Axes>"
      ]
     },
     "metadata": {
      "needs_background": "light"
     },
     "output_type": "display_data"
    },
    {
     "name": "stdout",
     "output_type": "stream",
     "text": [
      "\"Score\": 0.928141912206855\n"
     ]
    }
   ],
   "source": [
    "rfc = RandomForestClassifier(random_state=seed)\n",
    "rfc.fit(x_train, y_train)\n",
    "y_predict = rfc.predict(x_test)\n",
    "\n",
    "plots.plot_confusion(model=rfc, x_test=x_test, y_test=y_test, le=le, cat_matrix=cat_matrix, normalize='true')\n",
    "print(f'\\\"Score\\\": {rfc.score(x_test, y_test)}')"
   ]
  },
  {
   "cell_type": "markdown",
   "metadata": {},
   "source": [
    "# Neural Network"
   ]
  },
  {
   "cell_type": "code",
   "execution_count": 7,
   "metadata": {},
   "outputs": [
    {
     "name": "stderr",
     "output_type": "stream",
     "text": [
      "2022-12-18 12:43:52.664897: W tensorflow/compiler/xla/stream_executor/platform/default/dso_loader.cc:64] Could not load dynamic library 'libcuda.so.1'; dlerror: libcuda.so.1: cannot open shared object file: No such file or directory\n",
      "2022-12-18 12:43:52.664955: W tensorflow/compiler/xla/stream_executor/cuda/cuda_driver.cc:265] failed call to cuInit: UNKNOWN ERROR (303)\n",
      "2022-12-18 12:43:52.664993: I tensorflow/compiler/xla/stream_executor/cuda/cuda_diagnostics.cc:156] kernel driver does not appear to be running on this host (Black-Gold-Elementary): /proc/driver/nvidia/version does not exist\n",
      "2022-12-18 12:43:52.665475: I tensorflow/core/platform/cpu_feature_guard.cc:193] This TensorFlow binary is optimized with oneAPI Deep Neural Network Library (oneDNN) to use the following CPU instructions in performance-critical operations:  AVX2 FMA\n",
      "To enable them in other operations, rebuild TensorFlow with the appropriate compiler flags.\n"
     ]
    },
    {
     "name": "stdout",
     "output_type": "stream",
     "text": [
      "Model: \"sequential\"\n",
      "_________________________________________________________________\n",
      " Layer (type)                Output Shape              Param #   \n",
      "=================================================================\n",
      " dense (Dense)               (None, 128)               5760      \n",
      "                                                                 \n",
      " dropout (Dropout)           (None, 128)               0         \n",
      "                                                                 \n",
      " dense_1 (Dense)             (None, 64)                8256      \n",
      "                                                                 \n",
      " dropout_1 (Dropout)         (None, 64)                0         \n",
      "                                                                 \n",
      " dense_2 (Dense)             (None, 32)                2080      \n",
      "                                                                 \n",
      " dropout_2 (Dropout)         (None, 32)                0         \n",
      "                                                                 \n",
      " dense_3 (Dense)             (None, 16)                528       \n",
      "                                                                 \n",
      " dropout_3 (Dropout)         (None, 16)                0         \n",
      "                                                                 \n",
      " dense_4 (Dense)             (None, 8)                 136       \n",
      "                                                                 \n",
      " dropout_4 (Dropout)         (None, 8)                 0         \n",
      "                                                                 \n",
      " dense_5 (Dense)             (None, 3)                 27        \n",
      "                                                                 \n",
      "=================================================================\n",
      "Total params: 16,787\n",
      "Trainable params: 16,787\n",
      "Non-trainable params: 0\n",
      "_________________________________________________________________\n"
     ]
    }
   ],
   "source": [
    "def baseline_model(input_dim, num_classes, lr=0.001):\n",
    "    model = Sequential()\n",
    "    model.add(Dense(128, input_dim=input_dim, activation='relu'))\n",
    "    model.add(Dropout(0.2))\n",
    "    model.add(Dense(64, activation='relu'))\n",
    "    model.add(Dropout(0.2))\n",
    "    model.add(Dense(32, activation='relu'))\n",
    "    model.add(Dropout(0.2))\n",
    "    model.add(Dense(16, activation='relu'))\n",
    "    model.add(Dropout(0.2))\n",
    "    model.add(Dense(8, activation='relu'))\n",
    "    model.add(Dropout(0.2))\n",
    "    model.add(Dense(num_classes, activation='softmax'))\n",
    "\n",
    "    model.compile(loss='categorical_crossentropy', optimizer=Adam(learning_rate=lr), metrics=['accuracy'])\n",
    "\n",
    "    return model\n",
    "\n",
    "model = baseline_model(x_train.shape[1], le.classes_.size)\n",
    "model.summary()"
   ]
  },
  {
   "cell_type": "code",
   "execution_count": 8,
   "metadata": {},
   "outputs": [
    {
     "data": {
      "application/vnd.jupyter.widget-view+json": {
       "model_id": "b3652a0af5864caa8fdcec93a4399db3",
       "version_major": 2,
       "version_minor": 0
      },
      "text/plain": [
       "0epoch [00:00, ?epoch/s]"
      ]
     },
     "metadata": {},
     "output_type": "display_data"
    },
    {
     "data": {
      "application/vnd.jupyter.widget-view+json": {
       "model_id": "3ba4d0d4949645379f811208f366b840",
       "version_major": 2,
       "version_minor": 0
      },
      "text/plain": [
       "0batch [00:00, ?batch/s]"
      ]
     },
     "metadata": {},
     "output_type": "display_data"
    },
    {
     "data": {
      "image/png": "[encoded data removed]",
      "text/plain": [
       "<Figure size 432x288 with 1 Axes>"
      ]
     },
     "metadata": {
      "needs_background": "light"
     },
     "output_type": "display_data"
    }
   ],
   "source": [
    "history = model.fit(x=x_train,\n",
    "                    y=y_train,\n",
    "                    validation_data=(x_test, y_test),\n",
    "                    epochs=25,\n",
    "                    batch_size=100,\n",
    "                    verbose=0,\n",
    "                    callbacks=[TqdmCallback(verbose=1)]\n",
    "                )\n",
    "\n",
    "plots.plot_loss(history.history)"
   ]
  },
  {
   "cell_type": "code",
   "execution_count": 9,
   "metadata": {},
   "outputs": [
    {
     "name": "stdout",
     "output_type": "stream",
     "text": [
      "104/104 [==============================] - 1s 3ms/step\n",
      "[[1000   88   17]\n",
      " [  45 1091   16]\n",
      " [  16   27 1026]]\n",
      "              precision    recall  f1-score   support\n",
      "\n",
      "           n       0.94      0.90      0.92      1105\n",
      "           r       0.90      0.95      0.93      1152\n",
      "           w       0.97      0.96      0.96      1069\n",
      "\n",
      "    accuracy                           0.94      3326\n",
      "   macro avg       0.94      0.94      0.94      3326\n",
      "weighted avg       0.94      0.94      0.94      3326\n",
      "\n"
     ]
    },
    {
     "data": {
      "image/png": "[encoded data removed]",
      "text/plain": [
       "<Figure size 432x288 with 2 Axes>"
      ]
     },
     "metadata": {
      "needs_background": "light"
     },
     "output_type": "display_data"
    }
   ],
   "source": [
    "plots.plot_confusion(model=model, x_test=x_test, y_test=y_test, le=le, cat_matrix=True, normalize='true')"
   ]
  },
  {
   "cell_type": "code",
   "execution_count": 10,
   "metadata": {},
   "outputs": [],
   "source": [
    "def show_x():\n",
    "    bins = list(map(lambda x: f\"bin{x}\", range(401)))\n",
    "    df_bins = df[bins].copy()\n",
    "\n",
    "    # sum first column to rest\n",
    "    query = df.query(\"state == 'w'\")[bins[1:101]]\n",
    "\n",
    "    fig, axs = plt.subplots(5, 5, figsize=(25, 25))\n",
    "    for i in range(5):\n",
    "        for j in range(5):\n",
    "            query.iloc[i*5+j].plot(ax=axs[i, j])\n",
    "\n",
    "    plt.show()"
   ]
  }
 ],
 "metadata": {
  "kernelspec": {
   "display_name": "base",
   "language": "python",
   "name": "python3"
  },
  "language_info": {
   "codemirror_mode": {
    "name": "ipython",
    "version": 3
   },
   "file_extension": ".py",
   "mimetype": "text/x-python",
   "name": "python",
   "nbconvert_exporter": "python",
   "pygments_lexer": "ipython3",
   "version": "3.9.12"
  },
  "orig_nbformat": 4,
  "vscode": {
   "interpreter": {
    "hash": "25ecc8b1bc58212068ff31dc593d0f3fa3de4d056aced7030a93b782e02db050"
   }
  }
 },
 "nbformat": 4,
 "nbformat_minor": 2
}
