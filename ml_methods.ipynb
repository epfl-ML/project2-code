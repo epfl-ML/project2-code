{
 "cells": [
  {
   "cell_type": "code",
   "execution_count": 8,
   "metadata": {},
   "outputs": [],
   "source": [
    "import pandas as pd\n",
    "import numpy as np\n",
    "import matplotlib.pyplot as plt\n",
    "import seaborn as sns\n",
    "import tensorflow as tf\n",
    "\n",
    "from sklearn.ensemble import RandomForestClassifier\n",
    "from sklearn.linear_model import RidgeClassifierCV, LogisticRegression\n",
    "from sklearn.neighbors import KNeighborsClassifier\n",
    "\n",
    "from keras.models import Sequential\n",
    "from keras.layers import Dense\n",
    "from keras.optimizers import Adam\n",
    "\n",
    "from tqdm.notebook import tqdm\n",
    "from tqdm.keras import TqdmCallback\n",
    "\n",
    "import features\n",
    "import plots"
   ]
  },
  {
   "cell_type": "code",
   "execution_count": 2,
   "metadata": {},
   "outputs": [],
   "source": [
    "data_folder = 'data/'\n",
    "data_file = '10101.csv'\n",
    "\n",
    "useRaw = False\n",
    "test_size = 0.2\n",
    "seed = 13\n",
    "window_size = 50\n",
    "days = [0]\n",
    "cat_matrix = True # True for neural net, any for random forest"
   ]
  },
  {
   "cell_type": "code",
   "execution_count": 3,
   "metadata": {},
   "outputs": [
    {
     "name": "stdout",
     "output_type": "stream",
     "text": [
      "w    11631\n",
      "n     9104\n",
      "r      816\n",
      "Name: state, dtype: int64\n"
     ]
    },
    {
     "data": {
      "text/html": [
       "<div>\n",
       "<style scoped>\n",
       "    .dataframe tbody tr th:only-of-type {\n",
       "        vertical-align: middle;\n",
       "    }\n",
       "\n",
       "    .dataframe tbody tr th {\n",
       "        vertical-align: top;\n",
       "    }\n",
       "\n",
       "    .dataframe thead th {\n",
       "        text-align: right;\n",
       "    }\n",
       "</style>\n",
       "<table border=\"1\" class=\"dataframe\">\n",
       "  <thead>\n",
       "    <tr style=\"text-align: right;\">\n",
       "      <th></th>\n",
       "      <th>rawState</th>\n",
       "      <th>state</th>\n",
       "      <th>EEGv</th>\n",
       "      <th>EMGv</th>\n",
       "      <th>temp</th>\n",
       "      <th>EEGv_mean</th>\n",
       "      <th>EMGv_mean</th>\n",
       "      <th>time</th>\n",
       "      <th>day</th>\n",
       "    </tr>\n",
       "  </thead>\n",
       "  <tbody>\n",
       "    <tr>\n",
       "      <th>49</th>\n",
       "      <td>w</td>\n",
       "      <td>w</td>\n",
       "      <td>2.976543e-09</td>\n",
       "      <td>7.784953e-10</td>\n",
       "      <td>0.0</td>\n",
       "      <td>3.147769e-09</td>\n",
       "      <td>2.602624e-09</td>\n",
       "      <td>49</td>\n",
       "      <td>0</td>\n",
       "    </tr>\n",
       "  </tbody>\n",
       "</table>\n",
       "</div>"
      ],
      "text/plain": [
       "   rawState state          EEGv          EMGv  temp     EEGv_mean  \\\n",
       "49        w     w  2.976543e-09  7.784953e-10   0.0  3.147769e-09   \n",
       "\n",
       "       EMGv_mean  time  day  \n",
       "49  2.602624e-09    49    0  "
      ]
     },
     "execution_count": 3,
     "metadata": {},
     "output_type": "execute_result"
    }
   ],
   "source": [
    "df = features.load_features(data_folder + data_file)\n",
    "df = features.features_window(df, window_size=window_size, op=features.WindowOperationFlag.MEAN, features=[\"EEGv\", \"EMGv\"])\n",
    "df = df.dropna()\n",
    "df = features.add_times(df)\n",
    "\n",
    "df = features.filter_days(df, days)\n",
    "\n",
    "skeep, _ = features.states(useRaw)\n",
    "print(df[skeep].value_counts())\n",
    "df.head(1)"
   ]
  },
  {
   "cell_type": "code",
   "execution_count": 24,
   "metadata": {},
   "outputs": [],
   "source": [
    "x_train, x_test, y_train, y_test, le = features.split_data(df, useRaw, test_size, seed, cat_matrix)"
   ]
  },
  {
   "cell_type": "markdown",
   "metadata": {},
   "source": [
    "# Neural Network"
   ]
  },
  {
   "cell_type": "code",
   "execution_count": 58,
   "metadata": {},
   "outputs": [
    {
     "name": "stdout",
     "output_type": "stream",
     "text": [
      "Model: \"sequential_4\"\n",
      "_________________________________________________________________\n",
      " Layer (type)                Output Shape              Param #   \n",
      "=================================================================\n",
      " dense_16 (Dense)            (None, 16)                80        \n",
      "                                                                 \n",
      " dense_17 (Dense)            (None, 8)                 136       \n",
      "                                                                 \n",
      " dense_18 (Dense)            (None, 8)                 72        \n",
      "                                                                 \n",
      " dense_19 (Dense)            (None, 8)                 72        \n",
      "                                                                 \n",
      " dense_20 (Dense)            (None, 6)                 54        \n",
      "                                                                 \n",
      "=================================================================\n",
      "Total params: 414\n",
      "Trainable params: 414\n",
      "Non-trainable params: 0\n",
      "_________________________________________________________________\n"
     ]
    }
   ],
   "source": [
    "def baseline_model(input_dim, num_classes, lr=0.001):\n",
    "    model = Sequential()\n",
    "    model.add(Dense(16, input_dim=input_dim, activation='relu'))\n",
    "    model.add(Dense(8, activation='relu'))\n",
    "    model.add(Dense(8, activation='relu'))\n",
    "    model.add(Dense(8, activation='relu'))\n",
    "    model.add(Dense(num_classes, activation='softmax'))\n",
    "\n",
    "    model.compile(loss='categorical_crossentropy', optimizer=Adam(learning_rate=lr), metrics=['accuracy'])\n",
    "\n",
    "    return model\n",
    "\n",
    "model = baseline_model(x_train.shape[1], le.classes_.size)\n",
    "model.summary()"
   ]
  },
  {
   "cell_type": "code",
   "execution_count": 59,
   "metadata": {},
   "outputs": [
    {
     "data": {
      "application/vnd.jupyter.widget-view+json": {
       "model_id": "6bd7efa675ee45c1bb49e74d7f999df5",
       "version_major": 2,
       "version_minor": 0
      },
      "text/plain": [
       "0epoch [00:00, ?epoch/s]"
      ]
     },
     "metadata": {},
     "output_type": "display_data"
    },
    {
     "data": {
      "application/vnd.jupyter.widget-view+json": {
       "model_id": "ed3f5ac4072b4a80855d576135917699",
       "version_major": 2,
       "version_minor": 0
      },
      "text/plain": [
       "0batch [00:00, ?batch/s]"
      ]
     },
     "metadata": {},
     "output_type": "display_data"
    },
    {
     "data": {
      "image/png": "[encoded data removed]",
      "text/plain": [
       "<Figure size 432x288 with 1 Axes>"
      ]
     },
     "metadata": {
      "needs_background": "light"
     },
     "output_type": "display_data"
    }
   ],
   "source": [
    "history = model.fit(x=x_train,\n",
    "                    y=y_train,\n",
    "                    validation_data=(x_test, y_test),\n",
    "                    epochs=25,\n",
    "                    batch_size=10,\n",
    "                    verbose=0,\n",
    "                    callbacks=[TqdmCallback(verbose=1)]\n",
    "                )\n",
    "\n",
    "plots.plot_loss(history.history)"
   ]
  },
  {
   "cell_type": "code",
   "execution_count": 61,
   "metadata": {},
   "outputs": [
    {
     "name": "stdout",
     "output_type": "stream",
     "text": [
      "135/135 [==============================] - 0s 1ms/step\n",
      "[[ 169    0    0    1    0    5]\n",
      " [   0    5    0   33    0    0]\n",
      " [   0    0    0    1    1    0]\n",
      " [   1    0    0 1683   51   38]\n",
      " [   0    0    0   39   96   17]\n",
      " [  13    0    0   67   51 2048]]\n"
     ]
    },
    {
     "data": {
      "image/png": "[encoded data removed]",
      "text/plain": [
       "<Figure size 432x288 with 2 Axes>"
      ]
     },
     "metadata": {
      "needs_background": "light"
     },
     "output_type": "display_data"
    }
   ],
   "source": [
    "plots.plot_confusion(model=model, x_test=x_test, y_test=y_test, le=le, cat_matrix=True, normalize='true')"
   ]
  },
  {
   "cell_type": "markdown",
   "metadata": {},
   "source": [
    "# Random Forest"
   ]
  },
  {
   "cell_type": "code",
   "execution_count": 6,
   "metadata": {},
   "outputs": [
    {
     "name": "stdout",
     "output_type": "stream",
     "text": [
      "[[1729   13   55]\n",
      " [  94   45   31]\n",
      " [ 103   12 2229]]\n",
      "              precision    recall  f1-score   support\n",
      "\n",
      "           n       0.90      0.96      0.93      1797\n",
      "           r       0.64      0.26      0.37       170\n",
      "           w       0.96      0.95      0.96      2344\n",
      "\n",
      "    accuracy                           0.93      4311\n",
      "   macro avg       0.83      0.73      0.75      4311\n",
      "weighted avg       0.92      0.93      0.92      4311\n",
      "\n"
     ]
    },
    {
     "data": {
      "image/png": "[encoded data removed]",
      "text/plain": [
       "<Figure size 432x288 with 2 Axes>"
      ]
     },
     "metadata": {
      "needs_background": "light"
     },
     "output_type": "display_data"
    }
   ],
   "source": [
    "rfc = RandomForestClassifier(random_state=seed)\n",
    "rfc.fit(x_train, y_train)\n",
    "y_predict = rfc.predict(x_test)\n",
    "\n",
    "plots.plot_confusion(model=rfc, x_test=x_test, y_test=y_test, le=le, cat_matrix=cat_matrix, normalize='true')\n",
    "print(f'\\\"Score\\\": {rfc.score(x_test, y_test)}')"
   ]
  },
  {
   "cell_type": "markdown",
   "metadata": {},
   "source": [
    "# Ridge Regression"
   ]
  },
  {
   "cell_type": "code",
   "execution_count": 15,
   "metadata": {},
   "outputs": [
    {
     "name": "stdout",
     "output_type": "stream",
     "text": [
      "[[1599    0  198]\n",
      " [ 139    0   31]\n",
      " [ 376    0 1968]]\n",
      "              precision    recall  f1-score   support\n",
      "\n",
      "           n       0.76      0.89      0.82      1797\n",
      "           r       0.00      0.00      0.00       170\n",
      "           w       0.90      0.84      0.87      2344\n",
      "\n",
      "    accuracy                           0.83      4311\n",
      "   macro avg       0.55      0.58      0.56      4311\n",
      "weighted avg       0.80      0.83      0.81      4311\n",
      "\n"
     ]
    },
    {
     "data": {
      "image/png": "[encoded data removed]",
      "text/plain": [
       "<Figure size 432x288 with 2 Axes>"
      ]
     },
     "metadata": {
      "needs_background": "light"
     },
     "output_type": "display_data"
    }
   ],
   "source": [
    "alphas=[1e-3, 1e-2, 1e-1, 1]\n",
    "\n",
    "rrc = RidgeClassifierCV(alphas=alphas)\n",
    "rrc.fit(x_train, y_train)\n",
    "y_predict = rrc.predict(x_test)\n",
    "\n",
    "plots.plot_confusion(model=rrc, x_test=x_test, y_test=y_test, le=le, cat_matrix=cat_matrix, normalize='true')\n",
    "print(f'\\\"Score\\\": {rrc.score(x_test, y_test)}')"
   ]
  },
  {
   "cell_type": "markdown",
   "metadata": {},
   "source": [
    "# K-Nearest Neighbours"
   ]
  },
  {
   "cell_type": "code",
   "execution_count": 26,
   "metadata": {},
   "outputs": [
    {
     "name": "stdout",
     "output_type": "stream",
     "text": [
      "[[1704   33   60]\n",
      " [  94   31   45]\n",
      " [ 141   32 2171]]\n",
      "              precision    recall  f1-score   support\n",
      "\n",
      "           n       0.88      0.95      0.91      1797\n",
      "           r       0.32      0.18      0.23       170\n",
      "           w       0.95      0.93      0.94      2344\n",
      "\n",
      "    accuracy                           0.91      4311\n",
      "   macro avg       0.72      0.69      0.70      4311\n",
      "weighted avg       0.90      0.91      0.90      4311\n",
      "\n"
     ]
    },
    {
     "data": {
      "image/png": "[encoded data removed]",
      "text/plain": [
       "<Figure size 432x288 with 2 Axes>"
      ]
     },
     "metadata": {
      "needs_background": "light"
     },
     "output_type": "display_data"
    },
    {
     "name": "stdout",
     "output_type": "stream",
     "text": [
      "\"Score\": 0.8963117606123869\n"
     ]
    }
   ],
   "source": [
    "knn = KNeighborsClassifier(n_neighbors = 7)\n",
    "knn.fit(x_train, y_train)\n",
    "y_predict = knn.predict(x_test)\n",
    "\n",
    "plots.plot_confusion(model=knn, x_test=x_test, y_test=y_test, le=le, cat_matrix=cat_matrix, normalize='true')\n",
    "print(f'\\\"Score\\\": {knn.score(x_test, y_test)}')"
   ]
  },
  {
   "cell_type": "markdown",
   "metadata": {},
   "source": [
    "# Logistic Regression"
   ]
  },
  {
   "cell_type": "code",
   "execution_count": 23,
   "metadata": {},
   "outputs": [
    {
     "name": "stdout",
     "output_type": "stream",
     "text": [
      "[[1688    0  109]\n",
      " [ 103    0   67]\n",
      " [ 144    4 2196]]\n",
      "              precision    recall  f1-score   support\n",
      "\n",
      "           n       0.87      0.94      0.90      1797\n",
      "           r       0.00      0.00      0.00       170\n",
      "           w       0.93      0.94      0.93      2344\n",
      "\n",
      "    accuracy                           0.90      4311\n",
      "   macro avg       0.60      0.63      0.61      4311\n",
      "weighted avg       0.87      0.90      0.88      4311\n",
      "\n"
     ]
    },
    {
     "data": {
      "image/png": "[encoded data removed]",
      "text/plain": [
       "<Figure size 432x288 with 2 Axes>"
      ]
     },
     "metadata": {
      "needs_background": "light"
     },
     "output_type": "display_data"
    },
    {
     "name": "stdout",
     "output_type": "stream",
     "text": [
      "\"Score\": 0.9009510554395732\n"
     ]
    }
   ],
   "source": [
    "x_train, x_test, y_train, y_test, le = features.split_data(df, useRaw, test_size, seed, cat_matrix=False)\n",
    "\n",
    "lrc = LogisticRegression(random_state=seed)\n",
    "lrc.fit(x_train, y_train)\n",
    "y_predict = lrc.predict(x_test)\n",
    "\n",
    "plots.plot_confusion(model=lrc, x_test=x_test, y_test=y_test, le=le, cat_matrix=False, normalize='true')\n",
    "\n",
    "print(f'\\\"Score\\\": {lrc.score(x_test, y_test)}')"
   ]
  }
 ],
 "metadata": {
  "kernelspec": {
   "display_name": "Python 3.9.12 ('base')",
   "language": "python",
   "name": "python3"
  },
  "language_info": {
   "codemirror_mode": {
    "name": "ipython",
    "version": 3
   },
   "file_extension": ".py",
   "mimetype": "text/x-python",
   "name": "python",
   "nbconvert_exporter": "python",
   "pygments_lexer": "ipython3",
   "version": "3.9.12"
  },
  "orig_nbformat": 4,
  "vscode": {
   "interpreter": {
    "hash": "25ecc8b1bc58212068ff31dc593d0f3fa3de4d056aced7030a93b782e02db050"
   }
  }
 },
 "nbformat": 4,
 "nbformat_minor": 2
}
